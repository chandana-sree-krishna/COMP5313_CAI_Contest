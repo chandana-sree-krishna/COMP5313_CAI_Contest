{
 "cells": [
  {
   "cell_type": "code",
   "execution_count": 1,
   "id": "b3755006",
   "metadata": {},
   "outputs": [],
   "source": [
    "import gradio as gr\n",
    "import os, time, base64, vobject, requests\n",
    "from openai import OpenAI\n",
    "from twilio.rest import Client"
   ]
  },
  {
   "cell_type": "code",
   "execution_count": 2,
   "id": "5b303eec",
   "metadata": {},
   "outputs": [],
   "source": [
    "client = OpenAI(api_key=os.environ.get('OPENAI_KEY'));\n",
    "account_sid = os.environ.get('TWILIO_ACCOUNT_SID');\n",
    "auth_token = os.environ.get('TWILIO_AUTH_TOKEN');\n",
    "twilio_number = os.environ.get('TWILIO_NUMBER');"
   ]
  },
  {
   "cell_type": "code",
   "execution_count": 18,
   "id": "380dcacd",
   "metadata": {},
   "outputs": [],
   "source": [
    "class Bot():\n",
    "       \n",
    "    @staticmethod\n",
    "    def download(url, filename):\n",
    "        response = requests.get(url)\n",
    "        with open(filename, 'wb') as f:\n",
    "            f.write(response.content)\n",
    "        return filename\n",
    "    \n",
    "    @staticmethod\n",
    "    def read_vcf(file_path):\n",
    "        contacts = []\n",
    "        with open(file_path, 'r') as f:\n",
    "            vcard_str = f.read()\n",
    "            for vcard in vobject.readComponents(vcard_str):\n",
    "                if 'fn' not in vcard.contents:\n",
    "                    continue;\n",
    "                name = vcard.fn.value\n",
    "                if 'tel' in vcard.contents:\n",
    "                    phone = vcard.tel.value\n",
    "                else:\n",
    "                    phone = None\n",
    "                if 'email' in vcard.contents:\n",
    "                    email = vcard.email.value\n",
    "                else:\n",
    "                    email = None\n",
    "                contacts.append((name, phone, email))\n",
    "        return contacts\n",
    "\n",
    "    def seed(self):\n",
    "        file_path = Bot.download(os.environ.get('VCF_FILE_PATH'), 'contact.vcf')\n",
    "        self.contacts = Bot.read_vcf(file_path);\n",
    "        self.build_conversation('user', 'You are designed to discuss only topics relating Internet of Things. You should not be distracted from the context of this conversation.', None)\n",
    "    \n",
    "    @staticmethod\n",
    "    def send_sms(recipient_number, message):\n",
    "        client = Client(account_sid, auth_token)\n",
    "        message = client.messages.create(body=message, from_=twilio_number, to=recipient_number)\n",
    "        gr.Info(f'Message sent to {recipient_number}')\n",
    "    \n",
    "    @staticmethod\n",
    "    def send_sms_to_contacts(message, contacts):\n",
    "        for contact in contacts:\n",
    "            name, phone, email = contact\n",
    "            if phone:\n",
    "                Bot.send_sms(phone, message)\n",
    "    \n",
    "    @staticmethod\n",
    "    def build_text_chat(text):\n",
    "        return { \"type\" : \"text\", \"text\" : text }\n",
    "\n",
    "    @staticmethod\n",
    "    def build_image_chat(base64_image):\n",
    "        return { \"type\": \"image_url\", \"image_url\": { \"url\" : f\"data:image/jpeg;base64,{base64_image}\" }}\n",
    "\n",
    "    def build_conversation(self, role, text, base64_image):\n",
    "        content = [];\n",
    "        content.append(Bot.build_text_chat(text));\n",
    "\n",
    "        if base64_image is not None:\n",
    "            content.append(Bot.build_image_chat(base64_image));\n",
    "\n",
    "        data = { \"role\": role, \"content\": content }\n",
    "        self.conversation.append(data)\n",
    "\n",
    "    @staticmethod\n",
    "    def image_to_base64(file_path):\n",
    "        with open(file_path, \"rb\") as img_file:\n",
    "            base64_image = base64.b64encode(img_file.read()).decode(\"utf-8\")\n",
    "        return base64_image\n",
    "\n",
    "    def print_like_dislike(self, x: gr.LikeData):\n",
    "        print(x.index, x.value, x.liked)\n",
    "\n",
    "    def add_message(self, history, message, send_sms=False, last_response=None):\n",
    "        if len(message['files']) > 0:\n",
    "            for x in message[\"files\"]:\n",
    "                image_path = x.get('path')\n",
    "                if image_path:\n",
    "                    # in development env, use this.\n",
    "                    history.append(((image_path,), None))                    \n",
    "                    self.build_conversation('user', message['text'], Bot.image_to_base64(image_path))\n",
    "                    \n",
    "                # in production env, use this.\n",
    "                #history.append(((x,), None))\n",
    "                #self.build_conversation('user', message['text'], Bot.image_to_base64(x))\n",
    "\n",
    "        if message[\"text\"] is not None:\n",
    "            history.append((message[\"text\"], None))\n",
    "            self.build_conversation('user', message['text'], None)\n",
    "            \n",
    "        if send_sms:\n",
    "            Bot.send_sms_to_contacts(last_response, self.contacts)\n",
    "\n",
    "        return history, gr.MultimodalTextbox(value=None, interactive=False)\n",
    "\n",
    "    def send_to_chatGPT4(self, text):\n",
    "        response = client.chat.completions.create(model=\"gpt-4-vision-preview\", \n",
    "                                             messages=self.conversation,\n",
    "                                             max_tokens=150,\n",
    "                                             temperature=0.7, \n",
    "                                             stop=[\"\\n\"])\n",
    "\n",
    "        return response.choices[0].message.content\n",
    "\n",
    "    def bot(self, history):\n",
    "        user_input = history[-1][0];\n",
    "        response = self.send_to_chatGPT4(user_input)\n",
    "        self.last_response = response\n",
    "        self.build_conversation('assistant', response, None)\n",
    "        history[-1][1] = \"\"\n",
    "        for character in response:\n",
    "            history[-1][1] += character\n",
    "            time.sleep(0.05)\n",
    "            yield history\n",
    "        \n",
    "    def send_sms_callback(self):\n",
    "        self.add_message([[chatbot, chat_input], {\"send_sms\": True}], message=chat_input.value, send_sms=True, last_response=self.last_response)\n",
    "            \n",
    "    def __init__(self):\n",
    "        self.last_response = \"\"\n",
    "        self.conversation = [];\n",
    "        self.seed();"
   ]
  },
  {
   "cell_type": "code",
   "execution_count": 19,
   "id": "c660dc6c",
   "metadata": {},
   "outputs": [
    {
     "name": "stdout",
     "output_type": "stream",
     "text": [
      "Running on local URL:  http://127.0.0.1:7866\n",
      "\n",
      "To create a public link, set `share=True` in `launch()`.\n"
     ]
    },
    {
     "data": {
      "text/html": [
       "<div><iframe src=\"http://127.0.0.1:7866/\" width=\"100%\" height=\"500\" allow=\"autoplay; camera; microphone; clipboard-read; clipboard-write;\" frameborder=\"0\" allowfullscreen></iframe></div>"
      ],
      "text/plain": [
       "<IPython.core.display.HTML object>"
      ]
     },
     "metadata": {},
     "output_type": "display_data"
    },
    {
     "name": "stdout",
     "output_type": "stream",
     "text": [
      "+1 (807) 356-4911\n"
     ]
    }
   ],
   "source": [
    "gpt4 = Bot();\n",
    "\n",
    "with gr.Blocks() as demo:\n",
    "    chatbot = gr.Chatbot([], elem_id=\"chatbot\", bubble_full_width=False,)\n",
    "\n",
    "    chat_input = gr.MultimodalTextbox(interactive=True, file_types=[\"image\"], placeholder=\"Enter message or upload file...\", show_label=False)\n",
    "\n",
    "    chat_msg = chat_input.submit(gpt4.add_message, [chatbot, chat_input], [chatbot, chat_input])\n",
    "    bot_msg = chat_msg.then(gpt4.bot, chatbot, chatbot, api_name=\"bot_response\")\n",
    "    bot_msg.then(lambda: gr.MultimodalTextbox(interactive=True), None, [chat_input])\n",
    "\n",
    "    chatbot.like(gpt4.print_like_dislike, None, None)\n",
    "    \n",
    "    send_sms_button = gr.Button(value=\"Send as SMS\")\n",
    "    send_sms_button.click(gpt4.send_sms_callback)\n",
    "\n",
    "demo.queue()\n",
    "\n",
    "if __name__ == \"__main__\":\n",
    "    demo.launch()"
   ]
  },
  {
   "cell_type": "code",
   "execution_count": null,
   "id": "da8e335f",
   "metadata": {},
   "outputs": [],
   "source": []
  }
 ],
 "metadata": {
  "kernelspec": {
   "display_name": "Python 3 (ipykernel)",
   "language": "python",
   "name": "python3"
  },
  "language_info": {
   "codemirror_mode": {
    "name": "ipython",
    "version": 3
   },
   "file_extension": ".py",
   "mimetype": "text/x-python",
   "name": "python",
   "nbconvert_exporter": "python",
   "pygments_lexer": "ipython3",
   "version": "3.9.13"
  }
 },
 "nbformat": 4,
 "nbformat_minor": 5
}
